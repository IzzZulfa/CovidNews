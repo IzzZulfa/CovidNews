{
 "cells": [
  {
   "cell_type": "code",
   "execution_count": 1,
   "metadata": {},
   "outputs": [],
   "source": [
    "import pandas as pd"
   ]
  },
  {
   "cell_type": "code",
   "execution_count": 2,
   "metadata": {},
   "outputs": [
    {
     "data": {
      "text/html": [
       "<div>\n",
       "<style scoped>\n",
       "    .dataframe tbody tr th:only-of-type {\n",
       "        vertical-align: middle;\n",
       "    }\n",
       "\n",
       "    .dataframe tbody tr th {\n",
       "        vertical-align: top;\n",
       "    }\n",
       "\n",
       "    .dataframe thead th {\n",
       "        text-align: right;\n",
       "    }\n",
       "</style>\n",
       "<table border=\"1\" class=\"dataframe\">\n",
       "  <thead>\n",
       "    <tr style=\"text-align: right;\">\n",
       "      <th></th>\n",
       "      <th>Date Posted</th>\n",
       "      <th>Link</th>\n",
       "      <th>Text</th>\n",
       "      <th>Region</th>\n",
       "      <th>Username</th>\n",
       "      <th>Publisher</th>\n",
       "      <th>Label</th>\n",
       "    </tr>\n",
       "  </thead>\n",
       "  <tbody>\n",
       "    <tr>\n",
       "      <td>0</td>\n",
       "      <td>2/11/20</td>\n",
       "      <td>https://twitter.com/the_hindu/status/122725962...</td>\n",
       "      <td>Just in: Novel coronavirus named 'Covid-19': U...</td>\n",
       "      <td>India</td>\n",
       "      <td>the_hindu</td>\n",
       "      <td>The Hindu</td>\n",
       "      <td>1</td>\n",
       "    </tr>\n",
       "    <tr>\n",
       "      <td>1</td>\n",
       "      <td>2/12/20</td>\n",
       "      <td>https://twitter.com/ndtv/status/12274908434742...</td>\n",
       "      <td>WHO officially names #coronavirus as Covid-19....</td>\n",
       "      <td>India</td>\n",
       "      <td>ndtv</td>\n",
       "      <td>NDTV</td>\n",
       "      <td>1</td>\n",
       "    </tr>\n",
       "    <tr>\n",
       "      <td>2</td>\n",
       "      <td>2/12/20</td>\n",
       "      <td>https://twitter.com/the_hindu/status/122744471...</td>\n",
       "      <td>The #UN #health agency announced that \"COVID-1...</td>\n",
       "      <td>India</td>\n",
       "      <td>the_hindu</td>\n",
       "      <td>The Hindu</td>\n",
       "      <td>1</td>\n",
       "    </tr>\n",
       "    <tr>\n",
       "      <td>3</td>\n",
       "      <td>2/14/20</td>\n",
       "      <td>https://twitter.com/IndiaToday/status/12282764...</td>\n",
       "      <td>The Indian Embassy in Tokyo has said that one ...</td>\n",
       "      <td>India</td>\n",
       "      <td>indiatoday</td>\n",
       "      <td>IndiaToday</td>\n",
       "      <td>1</td>\n",
       "    </tr>\n",
       "    <tr>\n",
       "      <td>4</td>\n",
       "      <td>2/15/20</td>\n",
       "      <td>https://twitter.com/the_hindu/status/122854247...</td>\n",
       "      <td>Ground Zero | How Kerala used its experience i...</td>\n",
       "      <td>India</td>\n",
       "      <td>the_hindu</td>\n",
       "      <td>The Hindu</td>\n",
       "      <td>1</td>\n",
       "    </tr>\n",
       "    <tr>\n",
       "      <td>...</td>\n",
       "      <td>...</td>\n",
       "      <td>...</td>\n",
       "      <td>...</td>\n",
       "      <td>...</td>\n",
       "      <td>...</td>\n",
       "      <td>...</td>\n",
       "      <td>...</td>\n",
       "    </tr>\n",
       "    <tr>\n",
       "      <td>3788</td>\n",
       "      <td>6/30/20</td>\n",
       "      <td>https://twitter.com/ReutersUK/status/127789851...</td>\n",
       "      <td>Global COVID-19 prevention trial of hydroxychl...</td>\n",
       "      <td>Europe</td>\n",
       "      <td>reutersuk</td>\n",
       "      <td>Reuters UK</td>\n",
       "      <td>1</td>\n",
       "    </tr>\n",
       "    <tr>\n",
       "      <td>3789</td>\n",
       "      <td>6/30/20</td>\n",
       "      <td>https://twitter.com/ReutersUK/status/127798902...</td>\n",
       "      <td>Bavaria's free COVID-19 test for all splits Ge...</td>\n",
       "      <td>Europe</td>\n",
       "      <td>reutersuk</td>\n",
       "      <td>Reuters UK</td>\n",
       "      <td>1</td>\n",
       "    </tr>\n",
       "    <tr>\n",
       "      <td>3790</td>\n",
       "      <td>6/30/20</td>\n",
       "      <td>https://twitter.com/ReutersUK/status/127787577...</td>\n",
       "      <td>Britain locks down city of Leicester after COV...</td>\n",
       "      <td>Europe</td>\n",
       "      <td>reutersuk</td>\n",
       "      <td>Reuters UK</td>\n",
       "      <td>1</td>\n",
       "    </tr>\n",
       "    <tr>\n",
       "      <td>3791</td>\n",
       "      <td>6/30/20</td>\n",
       "      <td>https://twitter.com/ReutersUK/status/127778649...</td>\n",
       "      <td>UK imposes lockdown on city of Leicester to cu...</td>\n",
       "      <td>Europe</td>\n",
       "      <td>reutersuk</td>\n",
       "      <td>Reuters UK</td>\n",
       "      <td>1</td>\n",
       "    </tr>\n",
       "    <tr>\n",
       "      <td>3792</td>\n",
       "      <td>6/30/20</td>\n",
       "      <td>https://twitter.com/nytimes/status/12779273474...</td>\n",
       "      <td>Grace Fusco, the matriarch of a large New Jers...</td>\n",
       "      <td>United States</td>\n",
       "      <td>nytimes</td>\n",
       "      <td>The New York Times</td>\n",
       "      <td>1</td>\n",
       "    </tr>\n",
       "  </tbody>\n",
       "</table>\n",
       "<p>3793 rows × 7 columns</p>\n",
       "</div>"
      ],
      "text/plain": [
       "     Date Posted                                               Link  \\\n",
       "0        2/11/20  https://twitter.com/the_hindu/status/122725962...   \n",
       "1        2/12/20  https://twitter.com/ndtv/status/12274908434742...   \n",
       "2        2/12/20  https://twitter.com/the_hindu/status/122744471...   \n",
       "3        2/14/20  https://twitter.com/IndiaToday/status/12282764...   \n",
       "4        2/15/20  https://twitter.com/the_hindu/status/122854247...   \n",
       "...          ...                                                ...   \n",
       "3788     6/30/20  https://twitter.com/ReutersUK/status/127789851...   \n",
       "3789     6/30/20  https://twitter.com/ReutersUK/status/127798902...   \n",
       "3790     6/30/20  https://twitter.com/ReutersUK/status/127787577...   \n",
       "3791     6/30/20  https://twitter.com/ReutersUK/status/127778649...   \n",
       "3792     6/30/20  https://twitter.com/nytimes/status/12779273474...   \n",
       "\n",
       "                                                   Text         Region  \\\n",
       "0     Just in: Novel coronavirus named 'Covid-19': U...          India   \n",
       "1     WHO officially names #coronavirus as Covid-19....          India   \n",
       "2     The #UN #health agency announced that \"COVID-1...          India   \n",
       "3     The Indian Embassy in Tokyo has said that one ...          India   \n",
       "4     Ground Zero | How Kerala used its experience i...          India   \n",
       "...                                                 ...            ...   \n",
       "3788  Global COVID-19 prevention trial of hydroxychl...         Europe   \n",
       "3789  Bavaria's free COVID-19 test for all splits Ge...         Europe   \n",
       "3790  Britain locks down city of Leicester after COV...         Europe   \n",
       "3791  UK imposes lockdown on city of Leicester to cu...         Europe   \n",
       "3792  Grace Fusco, the matriarch of a large New Jers...  United States   \n",
       "\n",
       "        Username           Publisher  Label  \n",
       "0      the_hindu           The Hindu      1  \n",
       "1           ndtv                NDTV      1  \n",
       "2      the_hindu           The Hindu      1  \n",
       "3     indiatoday          IndiaToday      1  \n",
       "4      the_hindu           The Hindu      1  \n",
       "...          ...                 ...    ...  \n",
       "3788   reutersuk          Reuters UK      1  \n",
       "3789   reutersuk          Reuters UK      1  \n",
       "3790   reutersuk          Reuters UK      1  \n",
       "3791   reutersuk          Reuters UK      1  \n",
       "3792     nytimes  The New York Times      1  \n",
       "\n",
       "[3793 rows x 7 columns]"
      ]
     },
     "execution_count": 2,
     "metadata": {},
     "output_type": "execute_result"
    }
   ],
   "source": [
    "true = pd.read_csv(\"trueNews.csv\")\n",
    "true"
   ]
  },
  {
   "cell_type": "code",
   "execution_count": 3,
   "metadata": {},
   "outputs": [
    {
     "data": {
      "text/plain": [
       "<matplotlib.axes._subplots.AxesSubplot at 0x80cfcd0>"
      ]
     },
     "execution_count": 3,
     "metadata": {},
     "output_type": "execute_result"
    }
   ],
   "source": [
    "true['Publisher'].value_counts().plot(kind='bar')"
   ]
  },
  {
   "cell_type": "code",
   "execution_count": 4,
   "metadata": {},
   "outputs": [
    {
     "data": {
      "text/plain": [
       "<matplotlib.axes._subplots.AxesSubplot at 0x83dbd90>"
      ]
     },
     "execution_count": 4,
     "metadata": {},
     "output_type": "execute_result"
    },
    {
     "data": {
      "image/png": "[encoded data removed]",
      "text/plain": [
       "<Figure size 432x288 with 1 Axes>"
      ]
     },
     "metadata": {
      "needs_background": "light"
     },
     "output_type": "display_data"
    }
   ],
   "source": [
    "true['Region'].value_counts().plot(kind='bar')"
   ]
  },
  {
   "cell_type": "code",
   "execution_count": 5,
   "metadata": {},
   "outputs": [
    {
     "data": {
      "text/html": [
       "<div>\n",
       "<style scoped>\n",
       "    .dataframe tbody tr th:only-of-type {\n",
       "        vertical-align: middle;\n",
       "    }\n",
       "\n",
       "    .dataframe tbody tr th {\n",
       "        vertical-align: top;\n",
       "    }\n",
       "\n",
       "    .dataframe thead th {\n",
       "        text-align: right;\n",
       "    }\n",
       "</style>\n",
       "<table border=\"1\" class=\"dataframe\">\n",
       "  <thead>\n",
       "    <tr style=\"text-align: right;\">\n",
       "      <th></th>\n",
       "      <th>Text</th>\n",
       "      <th>Label</th>\n",
       "    </tr>\n",
       "  </thead>\n",
       "  <tbody>\n",
       "    <tr>\n",
       "      <td>0</td>\n",
       "      <td>Just in: Novel coronavirus named 'Covid-19': U...</td>\n",
       "      <td>1</td>\n",
       "    </tr>\n",
       "    <tr>\n",
       "      <td>1</td>\n",
       "      <td>WHO officially names #coronavirus as Covid-19....</td>\n",
       "      <td>1</td>\n",
       "    </tr>\n",
       "    <tr>\n",
       "      <td>2</td>\n",
       "      <td>The #UN #health agency announced that \"COVID-1...</td>\n",
       "      <td>1</td>\n",
       "    </tr>\n",
       "    <tr>\n",
       "      <td>3</td>\n",
       "      <td>The Indian Embassy in Tokyo has said that one ...</td>\n",
       "      <td>1</td>\n",
       "    </tr>\n",
       "    <tr>\n",
       "      <td>4</td>\n",
       "      <td>Ground Zero | How Kerala used its experience i...</td>\n",
       "      <td>1</td>\n",
       "    </tr>\n",
       "    <tr>\n",
       "      <td>...</td>\n",
       "      <td>...</td>\n",
       "      <td>...</td>\n",
       "    </tr>\n",
       "    <tr>\n",
       "      <td>3788</td>\n",
       "      <td>Global COVID-19 prevention trial of hydroxychl...</td>\n",
       "      <td>1</td>\n",
       "    </tr>\n",
       "    <tr>\n",
       "      <td>3789</td>\n",
       "      <td>Bavaria's free COVID-19 test for all splits Ge...</td>\n",
       "      <td>1</td>\n",
       "    </tr>\n",
       "    <tr>\n",
       "      <td>3790</td>\n",
       "      <td>Britain locks down city of Leicester after COV...</td>\n",
       "      <td>1</td>\n",
       "    </tr>\n",
       "    <tr>\n",
       "      <td>3791</td>\n",
       "      <td>UK imposes lockdown on city of Leicester to cu...</td>\n",
       "      <td>1</td>\n",
       "    </tr>\n",
       "    <tr>\n",
       "      <td>3792</td>\n",
       "      <td>Grace Fusco, the matriarch of a large New Jers...</td>\n",
       "      <td>1</td>\n",
       "    </tr>\n",
       "  </tbody>\n",
       "</table>\n",
       "<p>3793 rows × 2 columns</p>\n",
       "</div>"
      ],
      "text/plain": [
       "                                                   Text  Label\n",
       "0     Just in: Novel coronavirus named 'Covid-19': U...      1\n",
       "1     WHO officially names #coronavirus as Covid-19....      1\n",
       "2     The #UN #health agency announced that \"COVID-1...      1\n",
       "3     The Indian Embassy in Tokyo has said that one ...      1\n",
       "4     Ground Zero | How Kerala used its experience i...      1\n",
       "...                                                 ...    ...\n",
       "3788  Global COVID-19 prevention trial of hydroxychl...      1\n",
       "3789  Bavaria's free COVID-19 test for all splits Ge...      1\n",
       "3790  Britain locks down city of Leicester after COV...      1\n",
       "3791  UK imposes lockdown on city of Leicester to cu...      1\n",
       "3792  Grace Fusco, the matriarch of a large New Jers...      1\n",
       "\n",
       "[3793 rows x 2 columns]"
      ]
     },
     "execution_count": 5,
     "metadata": {},
     "output_type": "execute_result"
    }
   ],
   "source": [
    "true2 = true.drop(['Date Posted','Link','Region','Username','Publisher'], axis=1)\n",
    "true2"
   ]
  },
  {
   "cell_type": "code",
   "execution_count": 7,
   "metadata": {},
   "outputs": [
    {
     "data": {
      "image/png": "[encoded data removed]",
      "text/plain": [
       "<Figure size 432x288 with 1 Axes>"
      ]
     },
     "metadata": {
      "needs_background": "light"
     },
     "output_type": "display_data"
    }
   ],
   "source": [
    "from wordcloud import WordCloud, STOPWORDS, ImageColorGenerator\n",
    "import matplotlib.pyplot as plt\n",
    "\n",
    "text = true['Text'].values \n",
    "\n",
    "wordcloud = WordCloud(max_font_size=50, max_words=100, background_color=\"white\").generate(str(text))\n",
    "\n",
    "plt.imshow(wordcloud)\n",
    "plt.axis(\"off\")\n",
    "plt.show()"
   ]
  },
  {
   "cell_type": "code",
   "execution_count": 8,
   "metadata": {},
   "outputs": [
    {
     "data": {
      "text/html": [
       "<div>\n",
       "<style scoped>\n",
       "    .dataframe tbody tr th:only-of-type {\n",
       "        vertical-align: middle;\n",
       "    }\n",
       "\n",
       "    .dataframe tbody tr th {\n",
       "        vertical-align: top;\n",
       "    }\n",
       "\n",
       "    .dataframe thead th {\n",
       "        text-align: right;\n",
       "    }\n",
       "</style>\n",
       "<table border=\"1\" class=\"dataframe\">\n",
       "  <thead>\n",
       "    <tr style=\"text-align: right;\">\n",
       "      <th></th>\n",
       "      <th>Date Posted</th>\n",
       "      <th>Link</th>\n",
       "      <th>Text</th>\n",
       "      <th>Region</th>\n",
       "      <th>Country</th>\n",
       "      <th>Explanation</th>\n",
       "      <th>Origin</th>\n",
       "      <th>Origin_URL</th>\n",
       "      <th>Fact_checked_by</th>\n",
       "      <th>Poynter_Label</th>\n",
       "      <th>Binary Label</th>\n",
       "    </tr>\n",
       "  </thead>\n",
       "  <tbody>\n",
       "    <tr>\n",
       "      <td>0</td>\n",
       "      <td>2/7/20</td>\n",
       "      <td>https://www.poynter.org/?ifcn_misinformation=t...</td>\n",
       "      <td>Tencent revealed the real number of deaths.\\t\\t</td>\n",
       "      <td>Europe</td>\n",
       "      <td>France</td>\n",
       "      <td>The screenshot is questionable.</td>\n",
       "      <td>Twitter</td>\n",
       "      <td>https://www.liberation.fr/checknews/2020/02/07...</td>\n",
       "      <td>CheckNews</td>\n",
       "      <td>Misleading</td>\n",
       "      <td>0</td>\n",
       "    </tr>\n",
       "    <tr>\n",
       "      <td>1</td>\n",
       "      <td>2/7/20</td>\n",
       "      <td>https://www.poynter.org/?ifcn_misinformation=t...</td>\n",
       "      <td>Taking chlorine dioxide helps fight coronavir...</td>\n",
       "      <td>Europe</td>\n",
       "      <td>Germany</td>\n",
       "      <td>Chlorine dioxide does guard against the coron...</td>\n",
       "      <td>Website</td>\n",
       "      <td>https://correctiv.org/faktencheck/medizin-und-...</td>\n",
       "      <td>Correctiv</td>\n",
       "      <td>FALSE</td>\n",
       "      <td>0</td>\n",
       "    </tr>\n",
       "    <tr>\n",
       "      <td>2</td>\n",
       "      <td>2/7/20</td>\n",
       "      <td>https://www.poynter.org/?ifcn_misinformation=t...</td>\n",
       "      <td>This video shows workmen uncovering a bat-inf...</td>\n",
       "      <td>India</td>\n",
       "      <td>India</td>\n",
       "      <td>A video shows bats nesting in the roof; howev...</td>\n",
       "      <td>Facebook</td>\n",
       "      <td>https://factcheck.afp.com/video-shows-workmen-...</td>\n",
       "      <td>AFP</td>\n",
       "      <td>MISLEADING</td>\n",
       "      <td>0</td>\n",
       "    </tr>\n",
       "    <tr>\n",
       "      <td>3</td>\n",
       "      <td>2/7/20</td>\n",
       "      <td>https://www.poynter.org/?ifcn_misinformation=t...</td>\n",
       "      <td>The Asterix comic books and The Simpsons pred...</td>\n",
       "      <td>India</td>\n",
       "      <td>India</td>\n",
       "      <td>Coronavirus has been around since the 1960s. ...</td>\n",
       "      <td>Twitter</td>\n",
       "      <td>https://www.boomlive.in/health/did-the-simpson...</td>\n",
       "      <td>BOOM FactCheck</td>\n",
       "      <td>Misleading</td>\n",
       "      <td>0</td>\n",
       "    </tr>\n",
       "    <tr>\n",
       "      <td>4</td>\n",
       "      <td>2/7/20</td>\n",
       "      <td>https://www.poynter.org/?ifcn_misinformation=c...</td>\n",
       "      <td>Chinese President Xi Jinping visited a mosque...</td>\n",
       "      <td>India</td>\n",
       "      <td>India</td>\n",
       "      <td>Chinese President Xi Jinping's visit to the m...</td>\n",
       "      <td>Facebook</td>\n",
       "      <td>http://newsmobile.in/articles/2020/02/07/chine...</td>\n",
       "      <td>NewsMobile</td>\n",
       "      <td>FALSE</td>\n",
       "      <td>0</td>\n",
       "    </tr>\n",
       "  </tbody>\n",
       "</table>\n",
       "</div>"
      ],
      "text/plain": [
       "  Date Posted                                               Link  \\\n",
       "0      2/7/20  https://www.poynter.org/?ifcn_misinformation=t...   \n",
       "1      2/7/20  https://www.poynter.org/?ifcn_misinformation=t...   \n",
       "2      2/7/20  https://www.poynter.org/?ifcn_misinformation=t...   \n",
       "3      2/7/20  https://www.poynter.org/?ifcn_misinformation=t...   \n",
       "4      2/7/20  https://www.poynter.org/?ifcn_misinformation=c...   \n",
       "\n",
       "                                                Text  Region   Country  \\\n",
       "0    Tencent revealed the real number of deaths.\\t\\t  Europe    France   \n",
       "1   Taking chlorine dioxide helps fight coronavir...  Europe   Germany   \n",
       "2   This video shows workmen uncovering a bat-inf...   India     India   \n",
       "3   The Asterix comic books and The Simpsons pred...   India     India   \n",
       "4   Chinese President Xi Jinping visited a mosque...   India     India   \n",
       "\n",
       "                                         Explanation     Origin  \\\n",
       "0                    The screenshot is questionable.    Twitter   \n",
       "1   Chlorine dioxide does guard against the coron...    Website   \n",
       "2   A video shows bats nesting in the roof; howev...   Facebook   \n",
       "3   Coronavirus has been around since the 1960s. ...    Twitter   \n",
       "4   Chinese President Xi Jinping's visit to the m...   Facebook   \n",
       "\n",
       "                                          Origin_URL  Fact_checked_by  \\\n",
       "0  https://www.liberation.fr/checknews/2020/02/07...        CheckNews   \n",
       "1  https://correctiv.org/faktencheck/medizin-und-...        Correctiv   \n",
       "2  https://factcheck.afp.com/video-shows-workmen-...              AFP   \n",
       "3  https://www.boomlive.in/health/did-the-simpson...   BOOM FactCheck   \n",
       "4  http://newsmobile.in/articles/2020/02/07/chine...       NewsMobile   \n",
       "\n",
       "  Poynter_Label  Binary Label  \n",
       "0    Misleading             0  \n",
       "1         FALSE             0  \n",
       "2    MISLEADING             0  \n",
       "3    Misleading             0  \n",
       "4         FALSE             0  "
      ]
     },
     "execution_count": 8,
     "metadata": {},
     "output_type": "execute_result"
    }
   ],
   "source": [
    "fake = pd.read_csv(\"fakeNews.csv\")\n",
    "fake.head()"
   ]
  },
  {
   "cell_type": "code",
   "execution_count": 9,
   "metadata": {},
   "outputs": [
    {
     "data": {
      "text/plain": [
       "<matplotlib.axes._subplots.AxesSubplot at 0x138e670>"
      ]
     },
     "execution_count": 9,
     "metadata": {},
     "output_type": "execute_result"
    },
    {
     "data": {
      "image/png": "[encoded data removed]",
      "text/plain": [
       "<Figure size 432x288 with 1 Axes>"
      ]
     },
     "metadata": {
      "needs_background": "light"
     },
     "output_type": "display_data"
    }
   ],
   "source": [
    "fake['Region'].value_counts().plot(kind='bar')"
   ]
  },
  {
   "cell_type": "code",
   "execution_count": 10,
   "metadata": {},
   "outputs": [
    {
     "data": {
      "image/png": "[encoded data removed]",
      "text/plain": [
       "<Figure size 432x288 with 1 Axes>"
      ]
     },
     "metadata": {
      "needs_background": "light"
     },
     "output_type": "display_data"
    }
   ],
   "source": [
    "from wordcloud import WordCloud, STOPWORDS, ImageColorGenerator\n",
    "\n",
    "text = fake['Text'].values \n",
    "\n",
    "wordcloud = WordCloud(max_font_size=50, max_words=100, background_color=\"white\").generate(str(text))\n",
    "\n",
    "plt.imshow(wordcloud)\n",
    "plt.axis(\"off\")\n",
    "plt.show()"
   ]
  },
  {
   "cell_type": "code",
   "execution_count": 20,
   "metadata": {},
   "outputs": [],
   "source": [
    "fake1 = fake.drop(['Date Posted','Link','Region','Country','Explanation','Origin_URL','Origin','Fact_checked_by','Poynter_Label'], axis=1)\n",
    "fake2 = fake1.rename(columns={'Binary Label':'Label'})"
   ]
  },
  {
   "cell_type": "code",
   "execution_count": 21,
   "metadata": {},
   "outputs": [
    {
     "data": {
      "text/html": [
       "<div>\n",
       "<style scoped>\n",
       "    .dataframe tbody tr th:only-of-type {\n",
       "        vertical-align: middle;\n",
       "    }\n",
       "\n",
       "    .dataframe tbody tr th {\n",
       "        vertical-align: top;\n",
       "    }\n",
       "\n",
       "    .dataframe thead th {\n",
       "        text-align: right;\n",
       "    }\n",
       "</style>\n",
       "<table border=\"1\" class=\"dataframe\">\n",
       "  <thead>\n",
       "    <tr style=\"text-align: right;\">\n",
       "      <th></th>\n",
       "      <th>Text</th>\n",
       "      <th>Label</th>\n",
       "    </tr>\n",
       "  </thead>\n",
       "  <tbody>\n",
       "    <tr>\n",
       "      <td>0</td>\n",
       "      <td>Just in: Novel coronavirus named 'Covid-19': U...</td>\n",
       "      <td>1</td>\n",
       "    </tr>\n",
       "    <tr>\n",
       "      <td>1</td>\n",
       "      <td>WHO officially names #coronavirus as Covid-19....</td>\n",
       "      <td>1</td>\n",
       "    </tr>\n",
       "    <tr>\n",
       "      <td>2</td>\n",
       "      <td>The #UN #health agency announced that \"COVID-1...</td>\n",
       "      <td>1</td>\n",
       "    </tr>\n",
       "    <tr>\n",
       "      <td>3</td>\n",
       "      <td>The Indian Embassy in Tokyo has said that one ...</td>\n",
       "      <td>1</td>\n",
       "    </tr>\n",
       "    <tr>\n",
       "      <td>4</td>\n",
       "      <td>Ground Zero | How Kerala used its experience i...</td>\n",
       "      <td>1</td>\n",
       "    </tr>\n",
       "    <tr>\n",
       "      <td>...</td>\n",
       "      <td>...</td>\n",
       "      <td>...</td>\n",
       "    </tr>\n",
       "    <tr>\n",
       "      <td>7583</td>\n",
       "      <td>Bill Gates said that the COVID-19 vaccine wil...</td>\n",
       "      <td>0</td>\n",
       "    </tr>\n",
       "    <tr>\n",
       "      <td>7584</td>\n",
       "      <td>COVID-19 vaccine candidates will insert micro...</td>\n",
       "      <td>0</td>\n",
       "    </tr>\n",
       "    <tr>\n",
       "      <td>7585</td>\n",
       "      <td>An image claims that chroma screen panels are...</td>\n",
       "      <td>0</td>\n",
       "    </tr>\n",
       "    <tr>\n",
       "      <td>7586</td>\n",
       "      <td>Alexandria Ocasio-Cortez tweeted, \"It's vital...</td>\n",
       "      <td>0</td>\n",
       "    </tr>\n",
       "    <tr>\n",
       "      <td>7587</td>\n",
       "      <td>The spread of COVID-19 began last October wit...</td>\n",
       "      <td>0</td>\n",
       "    </tr>\n",
       "  </tbody>\n",
       "</table>\n",
       "<p>7588 rows × 2 columns</p>\n",
       "</div>"
      ],
      "text/plain": [
       "                                                   Text  Label\n",
       "0     Just in: Novel coronavirus named 'Covid-19': U...      1\n",
       "1     WHO officially names #coronavirus as Covid-19....      1\n",
       "2     The #UN #health agency announced that \"COVID-1...      1\n",
       "3     The Indian Embassy in Tokyo has said that one ...      1\n",
       "4     Ground Zero | How Kerala used its experience i...      1\n",
       "...                                                 ...    ...\n",
       "7583   Bill Gates said that the COVID-19 vaccine wil...      0\n",
       "7584   COVID-19 vaccine candidates will insert micro...      0\n",
       "7585   An image claims that chroma screen panels are...      0\n",
       "7586   Alexandria Ocasio-Cortez tweeted, \"It's vital...      0\n",
       "7587   The spread of COVID-19 began last October wit...      0\n",
       "\n",
       "[7588 rows x 2 columns]"
      ]
     },
     "execution_count": 21,
     "metadata": {},
     "output_type": "execute_result"
    }
   ],
   "source": [
    "df = pd.concat([true2, fake2])\n",
    "df.reset_index(inplace=True)\n",
    "df = df.drop(['index'], axis =1)\n",
    "df"
   ]
  },
  {
   "cell_type": "code",
   "execution_count": 22,
   "metadata": {},
   "outputs": [
    {
     "data": {
      "text/plain": [
       "Text     0\n",
       "Label    0\n",
       "dtype: int64"
      ]
     },
     "execution_count": 22,
     "metadata": {},
     "output_type": "execute_result"
    }
   ],
   "source": [
    "df.isnull().sum()"
   ]
  },
  {
   "cell_type": "code",
   "execution_count": 23,
   "metadata": {},
   "outputs": [
    {
     "data": {
      "text/html": [
       "<div>\n",
       "<style scoped>\n",
       "    .dataframe tbody tr th:only-of-type {\n",
       "        vertical-align: middle;\n",
       "    }\n",
       "\n",
       "    .dataframe tbody tr th {\n",
       "        vertical-align: top;\n",
       "    }\n",
       "\n",
       "    .dataframe thead th {\n",
       "        text-align: right;\n",
       "    }\n",
       "</style>\n",
       "<table border=\"1\" class=\"dataframe\">\n",
       "  <thead>\n",
       "    <tr style=\"text-align: right;\">\n",
       "      <th></th>\n",
       "      <th>Text</th>\n",
       "      <th>Label</th>\n",
       "    </tr>\n",
       "  </thead>\n",
       "  <tbody>\n",
       "    <tr>\n",
       "      <td>0</td>\n",
       "      <td>Just in Novel coronavirus named Covid19 UN hea...</td>\n",
       "      <td>1</td>\n",
       "    </tr>\n",
       "    <tr>\n",
       "      <td>1</td>\n",
       "      <td>WHO officially names coronavirus as Covid19\\n ...</td>\n",
       "      <td>1</td>\n",
       "    </tr>\n",
       "    <tr>\n",
       "      <td>2</td>\n",
       "      <td>The UN health agency announced that COVID19 wi...</td>\n",
       "      <td>1</td>\n",
       "    </tr>\n",
       "    <tr>\n",
       "      <td>3</td>\n",
       "      <td>The Indian Embassy in Tokyo has said that one ...</td>\n",
       "      <td>1</td>\n",
       "    </tr>\n",
       "    <tr>\n",
       "      <td>4</td>\n",
       "      <td>Ground Zero  How Kerala used its experience in...</td>\n",
       "      <td>1</td>\n",
       "    </tr>\n",
       "    <tr>\n",
       "      <td>...</td>\n",
       "      <td>...</td>\n",
       "      <td>...</td>\n",
       "    </tr>\n",
       "    <tr>\n",
       "      <td>7583</td>\n",
       "      <td>Bill Gates said that the COVID19 vaccine will...</td>\n",
       "      <td>0</td>\n",
       "    </tr>\n",
       "    <tr>\n",
       "      <td>7584</td>\n",
       "      <td>COVID19 vaccine candidates will insert microc...</td>\n",
       "      <td>0</td>\n",
       "    </tr>\n",
       "    <tr>\n",
       "      <td>7585</td>\n",
       "      <td>An image claims that chroma screen panels are...</td>\n",
       "      <td>0</td>\n",
       "    </tr>\n",
       "    <tr>\n",
       "      <td>7586</td>\n",
       "      <td>Alexandria OcasioCortez tweeted Its vital tha...</td>\n",
       "      <td>0</td>\n",
       "    </tr>\n",
       "    <tr>\n",
       "      <td>7587</td>\n",
       "      <td>The spread of COVID19 began last October with...</td>\n",
       "      <td>0</td>\n",
       "    </tr>\n",
       "  </tbody>\n",
       "</table>\n",
       "<p>7588 rows × 2 columns</p>\n",
       "</div>"
      ],
      "text/plain": [
       "                                                   Text  Label\n",
       "0     Just in Novel coronavirus named Covid19 UN hea...      1\n",
       "1     WHO officially names coronavirus as Covid19\\n ...      1\n",
       "2     The UN health agency announced that COVID19 wi...      1\n",
       "3     The Indian Embassy in Tokyo has said that one ...      1\n",
       "4     Ground Zero  How Kerala used its experience in...      1\n",
       "...                                                 ...    ...\n",
       "7583   Bill Gates said that the COVID19 vaccine will...      0\n",
       "7584   COVID19 vaccine candidates will insert microc...      0\n",
       "7585   An image claims that chroma screen panels are...      0\n",
       "7586   Alexandria OcasioCortez tweeted Its vital tha...      0\n",
       "7587   The spread of COVID19 began last October with...      0\n",
       "\n",
       "[7588 rows x 2 columns]"
      ]
     },
     "execution_count": 23,
     "metadata": {},
     "output_type": "execute_result"
    }
   ],
   "source": [
    "import string\n",
    "\n",
    "def remove_punctuations(Text):\n",
    "    for punctuation in string.punctuation:\n",
    "        Text = Text.replace(punctuation, '')\n",
    "    return Text\n",
    "\n",
    "df['Text'] = df['Text'].apply(remove_punctuations)\n",
    "df"
   ]
  },
  {
   "cell_type": "code",
   "execution_count": 24,
   "metadata": {},
   "outputs": [
    {
     "data": {
      "text/html": [
       "<div>\n",
       "<style scoped>\n",
       "    .dataframe tbody tr th:only-of-type {\n",
       "        vertical-align: middle;\n",
       "    }\n",
       "\n",
       "    .dataframe tbody tr th {\n",
       "        vertical-align: top;\n",
       "    }\n",
       "\n",
       "    .dataframe thead th {\n",
       "        text-align: right;\n",
       "    }\n",
       "</style>\n",
       "<table border=\"1\" class=\"dataframe\">\n",
       "  <thead>\n",
       "    <tr style=\"text-align: right;\">\n",
       "      <th></th>\n",
       "      <th>Text</th>\n",
       "      <th>Label</th>\n",
       "    </tr>\n",
       "  </thead>\n",
       "  <tbody>\n",
       "    <tr>\n",
       "      <td>0</td>\n",
       "      <td>just in novel coronavirus named covid19 un hea...</td>\n",
       "      <td>1</td>\n",
       "    </tr>\n",
       "    <tr>\n",
       "      <td>1</td>\n",
       "      <td>who officially names coronavirus as covid19\\n ...</td>\n",
       "      <td>1</td>\n",
       "    </tr>\n",
       "    <tr>\n",
       "      <td>2</td>\n",
       "      <td>the un health agency announced that covid19 wi...</td>\n",
       "      <td>1</td>\n",
       "    </tr>\n",
       "    <tr>\n",
       "      <td>3</td>\n",
       "      <td>the indian embassy in tokyo has said that one ...</td>\n",
       "      <td>1</td>\n",
       "    </tr>\n",
       "    <tr>\n",
       "      <td>4</td>\n",
       "      <td>ground zero  how kerala used its experience in...</td>\n",
       "      <td>1</td>\n",
       "    </tr>\n",
       "    <tr>\n",
       "      <td>...</td>\n",
       "      <td>...</td>\n",
       "      <td>...</td>\n",
       "    </tr>\n",
       "    <tr>\n",
       "      <td>7583</td>\n",
       "      <td>bill gates said that the covid19 vaccine will...</td>\n",
       "      <td>0</td>\n",
       "    </tr>\n",
       "    <tr>\n",
       "      <td>7584</td>\n",
       "      <td>covid19 vaccine candidates will insert microc...</td>\n",
       "      <td>0</td>\n",
       "    </tr>\n",
       "    <tr>\n",
       "      <td>7585</td>\n",
       "      <td>an image claims that chroma screen panels are...</td>\n",
       "      <td>0</td>\n",
       "    </tr>\n",
       "    <tr>\n",
       "      <td>7586</td>\n",
       "      <td>alexandria ocasiocortez tweeted its vital tha...</td>\n",
       "      <td>0</td>\n",
       "    </tr>\n",
       "    <tr>\n",
       "      <td>7587</td>\n",
       "      <td>the spread of covid19 began last october with...</td>\n",
       "      <td>0</td>\n",
       "    </tr>\n",
       "  </tbody>\n",
       "</table>\n",
       "<p>7588 rows × 2 columns</p>\n",
       "</div>"
      ],
      "text/plain": [
       "                                                   Text  Label\n",
       "0     just in novel coronavirus named covid19 un hea...      1\n",
       "1     who officially names coronavirus as covid19\\n ...      1\n",
       "2     the un health agency announced that covid19 wi...      1\n",
       "3     the indian embassy in tokyo has said that one ...      1\n",
       "4     ground zero  how kerala used its experience in...      1\n",
       "...                                                 ...    ...\n",
       "7583   bill gates said that the covid19 vaccine will...      0\n",
       "7584   covid19 vaccine candidates will insert microc...      0\n",
       "7585   an image claims that chroma screen panels are...      0\n",
       "7586   alexandria ocasiocortez tweeted its vital tha...      0\n",
       "7587   the spread of covid19 began last october with...      0\n",
       "\n",
       "[7588 rows x 2 columns]"
      ]
     },
     "execution_count": 24,
     "metadata": {},
     "output_type": "execute_result"
    }
   ],
   "source": [
    "df[\"Text\"] = df[\"Text\"].str.lower()\n",
    "df"
   ]
  },
  {
   "cell_type": "code",
   "execution_count": 25,
   "metadata": {},
   "outputs": [],
   "source": [
    "from nltk.corpus import stopwords\n",
    "from nltk.stem.porter import PorterStemmer\n",
    "import re\n",
    "import nltk\n",
    "\n",
    "porter = PorterStemmer()\n",
    "\n",
    "corpus = []\n",
    "for i in range(0, len(df)):\n",
    "    text = re.sub('[^a-zA-Z]', ' ', df['Text'][i])\n",
    "    text = text.lower()\n",
    "    text = text.split()\n",
    "    \n",
    "    text = [porter.stem(word) for word in text if not word in stopwords.words('english')]\n",
    "    text = ' '.join(text)\n",
    "    corpus.append(text)\n"
   ]
  },
  {
   "cell_type": "code",
   "execution_count": 26,
   "metadata": {},
   "outputs": [
    {
     "name": "stdout",
     "output_type": "stream",
     "text": [
      "panel\n",
      "coronaviru\n"
     ]
    }
   ],
   "source": [
    "print(porter.stem(\"panels\"))\n",
    "print(porter.stem(\"coronavirus\"))"
   ]
  },
  {
   "cell_type": "code",
   "execution_count": 27,
   "metadata": {},
   "outputs": [],
   "source": [
    "from sklearn.feature_extraction.text import TfidfVectorizer\n",
    "tfidf = TfidfVectorizer(ngram_range=(1,1))"
   ]
  },
  {
   "cell_type": "code",
   "execution_count": 28,
   "metadata": {},
   "outputs": [],
   "source": [
    "X = tfidf.fit_transform(corpus)\n",
    "y = df['Label']"
   ]
  },
  {
   "cell_type": "code",
   "execution_count": 29,
   "metadata": {},
   "outputs": [],
   "source": [
    "from sklearn.model_selection import train_test_split\n",
    "X_train, X_test, y_train, y_test = train_test_split(X, y, test_size=0.2, random_state=0)"
   ]
  },
  {
   "cell_type": "code",
   "execution_count": 30,
   "metadata": {},
   "outputs": [],
   "source": [
    "from sklearn import metrics\n",
    "import numpy as np\n",
    "import itertools\n",
    "from sklearn.metrics import roc_auc_score"
   ]
  },
  {
   "cell_type": "code",
   "execution_count": 31,
   "metadata": {},
   "outputs": [
    {
     "name": "stdout",
     "output_type": "stream",
     "text": [
      "accuracy  : 0.9268774703557312\n",
      "ROC-AUC   : 0.9262059910523246\n",
      "Error rate: 0.9262059910523246\n",
      "/n\n",
      "              precision    recall  f1-score   support\n",
      "\n",
      "           0       0.91      0.96      0.93       776\n",
      "           1       0.95      0.90      0.92       742\n",
      "\n",
      "    accuracy                           0.93      1518\n",
      "   macro avg       0.93      0.93      0.93      1518\n",
      "weighted avg       0.93      0.93      0.93      1518\n",
      "\n"
     ]
    }
   ],
   "source": [
    "from sklearn.naive_bayes import MultinomialNB\n",
    "\n",
    "MNB = MultinomialNB()\n",
    "\n",
    "MNB.fit(X_train, y_train)\n",
    "\n",
    "pred = MNB.predict(X_test)\n",
    "\n",
    "accuracy = metrics.accuracy_score(y_test, pred)\n",
    "print(\"accuracy  :\", accuracy)\n",
    "\n",
    "roc = roc_auc_score(y_test, pred)\n",
    "print(\"ROC-AUC   :\",  roc)\n",
    "\n",
    "error_rate = 1 - accuracy\n",
    "print(\"Error rate:\",  roc)\n",
    "\n",
    "from sklearn.metrics import classification_report\n",
    "report = classification_report(y_test, pred)\n",
    "print(\"/n\")\n",
    "print(report)"
   ]
  },
  {
   "cell_type": "code",
   "execution_count": 32,
   "metadata": {},
   "outputs": [
    {
     "name": "stdout",
     "output_type": "stream",
     "text": [
      "accuracy: 0.7490118577075099\n",
      "ROC-AUC : 0.74358622558146\n",
      "/n\n",
      "              precision    recall  f1-score   support\n",
      "\n",
      "           0       0.67      0.99      0.80       776\n",
      "           1       0.97      0.50      0.66       742\n",
      "\n",
      "    accuracy                           0.75      1518\n",
      "   macro avg       0.82      0.74      0.73      1518\n",
      "weighted avg       0.82      0.75      0.73      1518\n",
      "\n"
     ]
    }
   ],
   "source": [
    "from sklearn.neighbors import KNeighborsClassifier\n",
    "\n",
    "KNN = KNeighborsClassifier(n_neighbors=3)\n",
    "\n",
    "KNN.fit(X_train, y_train)\n",
    "\n",
    "pred = KNN.predict(X_test)\n",
    "\n",
    "score = metrics.accuracy_score(y_test, pred)\n",
    "print(\"accuracy:\", score)\n",
    "\n",
    "roc = roc_auc_score(y_test, pred)\n",
    "print(\"ROC-AUC :\", roc)\n",
    "\n",
    "from sklearn.metrics import classification_report\n",
    "report = classification_report(y_test, pred)\n",
    "print(\"/n\")\n",
    "print(report)"
   ]
  },
  {
   "cell_type": "code",
   "execution_count": 33,
   "metadata": {},
   "outputs": [
    {
     "name": "stdout",
     "output_type": "stream",
     "text": [
      "accuracy: 0.9354413702239789\n",
      "ROC-AUC : 0.9354089671270182\n",
      "/n\n",
      "              precision    recall  f1-score   support\n",
      "\n",
      "           0       0.94      0.94      0.94       776\n",
      "           1       0.93      0.93      0.93       742\n",
      "\n",
      "    accuracy                           0.94      1518\n",
      "   macro avg       0.94      0.94      0.94      1518\n",
      "weighted avg       0.94      0.94      0.94      1518\n",
      "\n"
     ]
    }
   ],
   "source": [
    "from sklearn.tree import DecisionTreeClassifier\n",
    "decisionTree = DecisionTreeClassifier()\n",
    "\n",
    "decisionTree.fit(X_train, y_train)\n",
    "\n",
    "pred = decisionTree.predict(X_test)\n",
    "\n",
    "score = metrics.accuracy_score(y_test, pred)\n",
    "print(\"accuracy:\", score)\n",
    "\n",
    "roc = roc_auc_score(y_test, pred)\n",
    "print(\"ROC-AUC :\",  roc)\n",
    "\n",
    "from sklearn.metrics import classification_report\n",
    "report = classification_report(y_test, pred)\n",
    "print(\"/n\")\n",
    "print(report)"
   ]
  },
  {
   "cell_type": "code",
   "execution_count": 34,
   "metadata": {},
   "outputs": [
    {
     "name": "stdout",
     "output_type": "stream",
     "text": [
      "accuracy: 0.9512516469038208\n",
      "ROC-AUC : 0.9516995720676912\n",
      "/n\n",
      "              precision    recall  f1-score   support\n",
      "\n",
      "           0       0.97      0.93      0.95       776\n",
      "           1       0.93      0.97      0.95       742\n",
      "\n",
      "    accuracy                           0.95      1518\n",
      "   macro avg       0.95      0.95      0.95      1518\n",
      "weighted avg       0.95      0.95      0.95      1518\n",
      "\n"
     ]
    }
   ],
   "source": [
    "from sklearn.svm import SVC \n",
    "\n",
    "svc = SVC()  \n",
    "svc.fit(X_train, y_train)\n",
    "\n",
    "pred = svc.predict(X_test)\n",
    "\n",
    "score = metrics.accuracy_score(y_test, pred)\n",
    "print(\"accuracy:\", score)\n",
    "\n",
    "roc = roc_auc_score(y_test, pred)\n",
    "print(\"ROC-AUC :\", roc)\n",
    "\n",
    "from sklearn.metrics import classification_report\n",
    "report = classification_report(y_test, pred)\n",
    "print(\"/n\")\n",
    "print(report)"
   ]
  },
  {
   "cell_type": "code",
   "execution_count": 35,
   "metadata": {},
   "outputs": [],
   "source": [
    "def plot_confusion_matrix(cm, classes,\n",
    "                          normalize=False,\n",
    "                          title='Confusion matrix',\n",
    "                          cmap=plt.cm.Blues):\n",
    " \n",
    "    plt.imshow(cm, interpolation='nearest', cmap=cmap)\n",
    "    plt.title(title)\n",
    "    plt.colorbar()\n",
    "    tick_marks = np.arange(len(classes))\n",
    "    plt.xticks(tick_marks, classes, rotation=45)\n",
    "    plt.yticks(tick_marks, classes)\n",
    "\n",
    "    thresh = cm.max() / 2.\n",
    "    for i, j in itertools.product(range(cm.shape[0]), range(cm.shape[1])):\n",
    "        plt.text(j, i, cm[i, j],\n",
    "                 horizontalalignment=\"center\",\n",
    "                 color=\"white\" if cm[i, j] > thresh else \"black\")\n",
    "\n",
    "    plt.tight_layout()\n",
    "    plt.ylim([1.5, -.5])\n",
    "    plt.ylabel('True label')\n",
    "    plt.xlabel('Predicted label')"
   ]
  },
  {
   "cell_type": "code",
   "execution_count": 36,
   "metadata": {},
   "outputs": [
    {
     "data": {
      "image/png": "[encoded data removed]",
      "text/plain": [
       "<Figure size 432x288 with 2 Axes>"
      ]
     },
     "metadata": {
      "needs_background": "light"
     },
     "output_type": "display_data"
    }
   ],
   "source": [
    "cm = metrics.confusion_matrix(y_test, pred)\n",
    "plot_confusion_matrix(cm, classes=['FAKE', 'REAL'])"
   ]
  },
  {
   "cell_type": "code",
   "execution_count": 37,
   "metadata": {},
   "outputs": [],
   "source": [
    "import pickle"
   ]
  },
  {
   "cell_type": "code",
   "execution_count": 38,
   "metadata": {},
   "outputs": [],
   "source": [
    "pickle.dump(svc, open('model.pkl', 'wb'))"
   ]
  },
  {
   "cell_type": "code",
   "execution_count": 39,
   "metadata": {},
   "outputs": [],
   "source": [
    "pickle.dump(tfidf, open('tfidf.pkl', 'wb'))"
   ]
  },
  {
   "cell_type": "code",
   "execution_count": 40,
   "metadata": {},
   "outputs": [],
   "source": [
    "joblib_model = pickle.load(open('model.pkl', 'rb'))"
   ]
  },
  {
   "cell_type": "code",
   "execution_count": 41,
   "metadata": {},
   "outputs": [],
   "source": [
    "joblib_vect = pickle.load(open('tfidf.pkl', 'rb'))"
   ]
  },
  {
   "cell_type": "code",
   "execution_count": 42,
   "metadata": {},
   "outputs": [],
   "source": [
    "val_pkl = joblib_vect.transform([text]).toarray()"
   ]
  },
  {
   "cell_type": "code",
   "execution_count": 44,
   "metadata": {},
   "outputs": [
    {
     "data": {
      "text/plain": [
       "array([0], dtype=int64)"
      ]
     },
     "execution_count": 44,
     "metadata": {},
     "output_type": "execute_result"
    }
   ],
   "source": [
    "joblib_model.predict(val_pkl)"
   ]
  },
  {
   "cell_type": "code",
   "execution_count": null,
   "metadata": {},
   "outputs": [],
   "source": []
  }
 ],
 "metadata": {
  "kernelspec": {
   "display_name": "Python 3",
   "language": "python",
   "name": "python3"
  },
  "language_info": {
   "codemirror_mode": {
    "name": "ipython",
    "version": 3
   },
   "file_extension": ".py",
   "mimetype": "text/x-python",
   "name": "python",
   "nbconvert_exporter": "python",
   "pygments_lexer": "ipython3",
   "version": "3.7.4"
  }
 },
 "nbformat": 4,
 "nbformat_minor": 2
}
